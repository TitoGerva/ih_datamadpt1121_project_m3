{
 "cells": [
  {
   "cell_type": "code",
   "execution_count": 1,
   "metadata": {},
   "outputs": [],
   "source": [
    "# imports\n",
    "\n",
    "import sqlalchemy\n",
    "import pandas as pd\n",
    "\n",
    "from sklearn import datasets\n",
    "from sklearn.datasets import make_regression\n",
    "from sklearn.model_selection import train_test_split\n",
    "\n",
    "from sklearn import linear_model\n",
    "from sklearn.linear_model import ElasticNet\n",
    "from sklearn.linear_model import Ridge\n",
    "from sklearn.svm import SVR\n",
    "from sklearn.linear_model import SGDRegressor\n",
    "from sklearn.linear_model import LinearRegression\n",
    "from sklearn.preprocessing import StandardScaler\n",
    "from sklearn.metrics import mean_squared_error\n",
    "from sklearn.metrics import r2_score\n",
    "\n",
    "from sklearn.preprocessing import RobustScaler\n",
    "\n",
    "import pickle\n",
    "from sklearn import preprocessing\n",
    "from sklearn.ensemble import RandomForestRegressor\n"
   ]
  },
  {
   "cell_type": "code",
   "execution_count": 2,
   "metadata": {},
   "outputs": [],
   "source": [
    "#STEP 1 IMPORT DATASET\n",
    "\n",
    "diamonds_train = pd.read_csv('./dataset/diamonds_train.csv')\n",
    "diamonds_test = pd.read_csv('./dataset/diamonds_test.csv')"
   ]
  },
  {
   "cell_type": "code",
   "execution_count": 21,
   "metadata": {},
   "outputs": [],
   "source": [
    "#STEP 2 WRANGLING\n",
    "#STEP 2.1 REMOVE COLUMN CITY \n",
    "diamonds_train = diamonds_train.drop(['city'], axis=1)"
   ]
  },
  {
   "cell_type": "code",
   "execution_count": 22,
   "metadata": {},
   "outputs": [],
   "source": [
    "#STEP 3 CONVERT CATEGORIC VALUES INTO NUMERIC\n",
    "#STEP 3.1 COLOR BECOMES 'color-encoded'\n",
    "from sklearn.preprocessing import OrdinalEncoder\n",
    "\n",
    "#STEP 3.1.1 CREATE ENCODER INDICATING ORDER OF VARIABLE (low VALUE TO high Value)\n",
    "encoder = OrdinalEncoder(categories=[['J', 'I', 'H', 'G', 'F', 'E', 'D']])\n",
    "\n",
    "#STEP 3.1.2 TRANSFORM VALUES IN COLUMN 'color' INTO NUMERIC VALUES IN TRAINING DATASET\n",
    "encoder.fit(diamonds_train[['color']])\n",
    "diamonds_train['color-encoded'] = encoder.transform(diamonds_train[['color']])\n",
    "diamonds_train.drop('color', axis = 1 , inplace = True)\n",
    "\n",
    "#STEP 3.1.3 TRANSFORM VALUES IN COLUMN 'color' INTO NUMERIC VALUES IN TEST DATASET\n",
    "encoder.fit(diamonds_test[[\"color\"]])\n",
    "diamonds_test[\"color-encoded\"] = encoder.transform(diamonds_test[[\"color\"]])\n",
    "diamonds_test.drop(\"color\", axis = 1 , inplace = True)"
   ]
  },
  {
   "cell_type": "code",
   "execution_count": 23,
   "metadata": {},
   "outputs": [],
   "source": [
    "#STEP 3.2 CUT BECOMES 'cut-encoded'\n",
    "\n",
    "#STEP 3.2.1 CREATE ENCODER INDICATING ORDER OF VARIABLE (low VALUE TO high Value)\n",
    "encoder = OrdinalEncoder(categories=[['Premium', 'Very Good', 'Fair', 'Good', 'Ideal']])\n",
    "\n",
    "#STEP 3.2.2 TRANSFORM VALUES IN COLUMN 'cut' INTO NUMERIC VALUES IN TRAINING DATASET\n",
    "encoder.fit(diamonds_train[['cut']])\n",
    "diamonds_train['cut-encoded'] = encoder.transform(diamonds_train[['cut']])\n",
    "diamonds_train.drop('cut', axis = 1 , inplace = True)\n",
    "\n",
    "#STEP 3.2.3 TRANSFORM VALUES IN COLUMN 'cut' INTO NUMERIC VALUES IN TEST DATASET\n",
    "encoder.fit(diamonds_test[['cut']])\n",
    "diamonds_test['cut-encoded'] = encoder.transform(diamonds_test[['cut']])\n",
    "diamonds_test.drop('cut', axis = 1 , inplace = True)"
   ]
  },
  {
   "cell_type": "code",
   "execution_count": 24,
   "metadata": {},
   "outputs": [],
   "source": [
    "#STEP 3.3 CLARITY BECOMES 'clarity-encoded'\n",
    "\n",
    "#STEP 3.3.1 CREATE ENCODER INDICATING ORDER OF VARIABLE (low VALUE TO high Value)\n",
    "encoder = OrdinalEncoder(categories=[['VS2', 'SI1', 'SI2', 'VS1', 'IF', 'VVS1', 'VVS2', 'I1']])\n",
    "\n",
    "#STEP 3.3.2 TRANSFORM VALUES IN COLUMN 'clarity' INTO NUMERIC VALUES IN TRAINING DATASET\n",
    "encoder.fit(diamonds_train[['clarity']])\n",
    "diamonds_train['clarity-encoded'] = encoder.transform(diamonds_train[['clarity']])\n",
    "diamonds_train.drop('clarity', axis = 1 , inplace = True)\n",
    "\n",
    "#STEP 3.3.3 TRANSFORM VALUES IN COLUMN 'clarity' INTO NUMERIC VALUES IN TEST DATASET\n",
    "encoder.fit(diamonds_test[['clarity']])\n",
    "diamonds_test['clarity-encoded'] = encoder.transform(diamonds_test[['clarity']])\n",
    "diamonds_test.drop('clarity', axis = 1 , inplace = True)"
   ]
  },
  {
   "cell_type": "code",
   "execution_count": 25,
   "metadata": {},
   "outputs": [],
   "source": [
    "#STEP 4 DEFINE COLUMN TARGET AND FEATURES (IN OUR MODEL, ALL THE FEATURES ARE NUMERICAL)\n",
    "\n",
    "target = \"price\"\n",
    "features = ['depth', 'carat', 'table', 'x', 'y', 'z', 'color-encoded', 'cut-encoded', 'clarity-encoded']"
   ]
  },
  {
   "cell_type": "code",
   "execution_count": 26,
   "metadata": {},
   "outputs": [],
   "source": [
    "#STEP 5 APLY SCALER ON TRAININING MODEL\n",
    "\n",
    "scaler = RobustScaler()\n",
    "x =scaler.fit_transform(diamonds_train[features])\n",
    "y = diamonds_train[target]\n",
    "\n"
   ]
  },
  {
   "cell_type": "code",
   "execution_count": 27,
   "metadata": {},
   "outputs": [],
   "source": [
    "#STEP 6 SPLIT TEST MODEL TO APPLY OUR TRAINING DATASET\n",
    "X_train, X_validation, y_train, y_validation=train_test_split(x, y, test_size=0.2, random_state=42)\n"
   ]
  },
  {
   "cell_type": "code",
   "execution_count": 28,
   "metadata": {},
   "outputs": [],
   "source": [
    "#STEP 7 SELECT A MODEL OF REGRESSION (IN THIS CASE, RANDOMFOREST IS APPLIED) AND TRAIN THE MODEL\n",
    "model1 = RandomForestRegressor(random_state=42)\n",
    "model1.fit(X_train,y_train)\n",
    "\n",
    "y_pred_train = model1.predict(X_validation)"
   ]
  },
  {
   "cell_type": "code",
   "execution_count": 29,
   "metadata": {},
   "outputs": [
    {
     "name": "stdout",
     "output_type": "stream",
     "text": [
      "551.1019282650497\n"
     ]
    }
   ],
   "source": [
    "#STEP 8 OBTAIN RMS TO CONFIRM THE HIGH VALUE OF OUR MODEL\n",
    "RMSE_ERROR_sklearn = mean_squared_error(y_validation, y_pred_train, squared = False)\n",
    "print(RMSE_ERROR_sklearn)"
   ]
  },
  {
   "cell_type": "code",
   "execution_count": 30,
   "metadata": {},
   "outputs": [],
   "source": [
    "#STEP 9 APPLY SCALER IN TEST DATASET\n",
    "\n",
    "scaler = RobustScaler()\n",
    "scaler_test =scaler.fit_transform(diamonds_test[features])\n",
    "\n",
    "y_pred_test = model1.predict(scaler_test).clip(0,30000)\n"
   ]
  },
  {
   "cell_type": "code",
   "execution_count": 31,
   "metadata": {},
   "outputs": [
    {
     "data": {
      "text/html": [
       "<div>\n",
       "<style scoped>\n",
       "    .dataframe tbody tr th:only-of-type {\n",
       "        vertical-align: middle;\n",
       "    }\n",
       "\n",
       "    .dataframe tbody tr th {\n",
       "        vertical-align: top;\n",
       "    }\n",
       "\n",
       "    .dataframe thead th {\n",
       "        text-align: right;\n",
       "    }\n",
       "</style>\n",
       "<table border=\"1\" class=\"dataframe\">\n",
       "  <thead>\n",
       "    <tr style=\"text-align: right;\">\n",
       "      <th></th>\n",
       "      <th>id</th>\n",
       "      <th>price</th>\n",
       "    </tr>\n",
       "  </thead>\n",
       "  <tbody>\n",
       "    <tr>\n",
       "      <th>0</th>\n",
       "      <td>0</td>\n",
       "      <td>2881.62</td>\n",
       "    </tr>\n",
       "    <tr>\n",
       "      <th>1</th>\n",
       "      <td>1</td>\n",
       "      <td>5355.66</td>\n",
       "    </tr>\n",
       "    <tr>\n",
       "      <th>2</th>\n",
       "      <td>2</td>\n",
       "      <td>9589.35</td>\n",
       "    </tr>\n",
       "    <tr>\n",
       "      <th>3</th>\n",
       "      <td>3</td>\n",
       "      <td>4173.35</td>\n",
       "    </tr>\n",
       "    <tr>\n",
       "      <th>4</th>\n",
       "      <td>4</td>\n",
       "      <td>1680.62</td>\n",
       "    </tr>\n",
       "  </tbody>\n",
       "</table>\n",
       "</div>"
      ],
      "text/plain": [
       "   id    price\n",
       "0   0  2881.62\n",
       "1   1  5355.66\n",
       "2   2  9589.35\n",
       "3   3  4173.35\n",
       "4   4  1680.62"
      ]
     },
     "execution_count": 31,
     "metadata": {},
     "output_type": "execute_result"
    }
   ],
   "source": [
    "#STEP 10 CREATE THE DATASET TO FACE KAGGLE MODEL\n",
    "submission_test =pd.DataFrame({'id': diamonds_test['id'],'price': y_pred_test})\n",
    "submission_test.head()"
   ]
  },
  {
   "cell_type": "code",
   "execution_count": 32,
   "metadata": {},
   "outputs": [],
   "source": [
    "#STEP 11 EXPORT DATASET INTO CSV\n",
    "submission_test.to_csv('./submission_test/submission_test_v13.csv', index =False)"
   ]
  }
 ],
 "metadata": {
  "interpreter": {
   "hash": "56a449b4b6c3a217288f974e7779502090f26a1e424eb525f35a32165e90487c"
  },
  "kernelspec": {
   "display_name": "Python 3.7.11 ('ironhack')",
   "language": "python",
   "name": "python3"
  },
  "language_info": {
   "codemirror_mode": {
    "name": "ipython",
    "version": 3
   },
   "file_extension": ".py",
   "mimetype": "text/x-python",
   "name": "python",
   "nbconvert_exporter": "python",
   "pygments_lexer": "ipython3",
   "version": "3.10.4"
  },
  "orig_nbformat": 4
 },
 "nbformat": 4,
 "nbformat_minor": 2
}
